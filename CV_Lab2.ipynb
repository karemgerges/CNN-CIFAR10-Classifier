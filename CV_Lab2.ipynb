{
  "nbformat": 4,
  "nbformat_minor": 0,
  "metadata": {
    "colab": {
      "name": "CV_Lab2.ipynb",
      "version": "0.3.2",
      "provenance": [],
      "collapsed_sections": [],
      "include_colab_link": true
    },
    "kernelspec": {
      "name": "python3",
      "display_name": "Python 3"
    },
    "accelerator": "GPU"
  },
  "cells": [
    {
      "cell_type": "markdown",
      "metadata": {
        "id": "view-in-github",
        "colab_type": "text"
      },
      "source": [
        "<a href=\"https://colab.research.google.com/github/karemgerges/CNN-CIFAR10-Classifier/blob/master/CV_Lab2.ipynb\" target=\"_parent\"><img src=\"https://colab.research.google.com/assets/colab-badge.svg\" alt=\"Open In Colab\"/></a>"
      ]
    },
    {
      "metadata": {
        "id": "ez7JwSZCqboK",
        "colab_type": "text"
      },
      "cell_type": "markdown",
      "source": [
        "#Imports"
      ]
    },
    {
      "metadata": {
        "id": "Va6YdisFMrtN",
        "colab_type": "code",
        "colab": {}
      },
      "cell_type": "code",
      "source": [
        "import torch\n",
        "import torchvision\n",
        "import torchvision.transforms as transforms\n",
        "import torch.nn as nn\n",
        "import torch.nn.functional as F\n",
        "import torchvision.models as models\n",
        "import matplotlib.pyplot as plt\n",
        "import numpy as np\n",
        "import torch.optim as optim\n",
        "import matplotlib.pyplot as plt; plt.rcdefaults()\n",
        "import numpy as np\n",
        "import matplotlib.pyplot as plt"
      ],
      "execution_count": 0,
      "outputs": []
    },
    {
      "metadata": {
        "id": "4I8qoYuNqqDa",
        "colab_type": "text"
      },
      "cell_type": "markdown",
      "source": [
        "# Part1"
      ]
    },
    {
      "metadata": {
        "id": "pNzCsEXacG5d",
        "colab_type": "text"
      },
      "cell_type": "markdown",
      "source": [
        "### Plot funciton"
      ]
    },
    {
      "metadata": {
        "id": "tLu895c0aQ7L",
        "colab_type": "code",
        "colab": {}
      },
      "cell_type": "code",
      "source": [
        "def plot_data(num_epochs, kernels, accuracies):\n",
        "  y_pos = np.arange(len(accuracies))\n",
        "  plt.bar(y_pos, accuracies, align='center', alpha=0.5)\n",
        "  plt.xticks(y_pos, kernels)\n",
        "  plt.ylabel('Accuracy')\n",
        "  plt.xlabel('Kernel Size')\n",
        "  title = 'Number of Epochs = {}'.format(num_epochs)\n",
        "  plt.title(title)\n",
        "  plt.show(True)"
      ],
      "execution_count": 0,
      "outputs": []
    },
    {
      "metadata": {
        "id": "eq7Da3nKefOp",
        "colab_type": "text"
      },
      "cell_type": "markdown",
      "source": [
        "###Print Funciton\n"
      ]
    },
    {
      "metadata": {
        "id": "TsF1Ybjtemls",
        "colab_type": "code",
        "colab": {}
      },
      "cell_type": "code",
      "source": [
        "def print_accuracies(epochs, kernels, accuracies):\n",
        "  print('#epochs = ', epochs)\n",
        "  print('{')\n",
        "  for i in range(len(accuracies)):\n",
        "    print('\\tkernel size = ', kernels[i])\n",
        "    print('\\tAccuracy of the network on the 10000 test images = {}%'.format(accuracies[i]))\n",
        "    print()\n",
        "  print('}')\n",
        "  print('==================')"
      ],
      "execution_count": 0,
      "outputs": []
    },
    {
      "metadata": {
        "id": "xrwJTyqUkMa2",
        "colab_type": "text"
      },
      "cell_type": "markdown",
      "source": [
        "##Loading CIFAR10"
      ]
    },
    {
      "metadata": {
        "id": "YrFfltM1MsjJ",
        "colab_type": "code",
        "outputId": "37fd639f-bc15-4c48-b82b-2cf1da2c6779",
        "colab": {
          "base_uri": "https://localhost:8080/",
          "height": 52
        }
      },
      "cell_type": "code",
      "source": [
        "transform = transforms.Compose(\n",
        "    [transforms.ToTensor(),\n",
        "     transforms.Normalize((0.5, 0.5, 0.5), (0.5, 0.5, 0.5))])\n",
        "\n",
        "trainset = torchvision.datasets.CIFAR10(root='./data', train=True,\n",
        "                                        download=True, transform=transform)\n",
        "trainloader = torch.utils.data.DataLoader(trainset, batch_size=4,\n",
        "                                          shuffle=True, num_workers=2)\n",
        "\n",
        "testset = torchvision.datasets.CIFAR10(root='./data', train=False,\n",
        "                                       download=True, transform=transform)\n",
        "testloader = torch.utils.data.DataLoader(testset, batch_size=4,\n",
        "                                         shuffle=False, num_workers=2)\n",
        "\n",
        "classes = ('plane', 'car', 'bird', 'cat',\n",
        "           'deer', 'dog', 'frog', 'horse', 'ship', 'truck')"
      ],
      "execution_count": 0,
      "outputs": [
        {
          "output_type": "stream",
          "text": [
            "Files already downloaded and verified\n",
            "Files already downloaded and verified\n"
          ],
          "name": "stdout"
        }
      ]
    },
    {
      "metadata": {
        "id": "v4IsS78tkZrV",
        "colab_type": "text"
      },
      "cell_type": "markdown",
      "source": [
        "##Define a Convolutional Neural Network"
      ]
    },
    {
      "metadata": {
        "id": "c0p82ZuJDdDk",
        "colab_type": "code",
        "colab": {}
      },
      "cell_type": "code",
      "source": [
        "class Net(nn.Module):\n",
        "       \n",
        "    def __init__(self,kernel_size):\n",
        "        # 3 input image channel, 6 output channels, kernel_size * kernel_size\n",
        "        # square convolution kernel\n",
        "        super(Net, self).__init__()\n",
        "        self.conv1 = nn.Conv2d(3, 6, kernel_size)\n",
        "        # Max pooling over a (2, 2) window\n",
        "        self.pool = nn.MaxPool2d(2, 2)\n",
        "        self.conv2 = nn.Conv2d(6, 16, kernel_size)\n",
        "        # fully connected takes nn.Linear(size of input, size to output)\n",
        "        fc1_input_size = self.calculate_fc1_input_size(kernel_size, num_conv_layers=2)\n",
        "        #print('size is :' ,self.fc1_input_size)\n",
        "        self.fc1 = nn.Linear(16 * fc1_input_size * fc1_input_size, 120)\n",
        "        self.fc2 = nn.Linear(120, 84)\n",
        "        # 10 = number of classes we are classifing to\n",
        "        self.fc3 = nn.Linear(84, 10)\n",
        "\n",
        "    def forward(self, x):\n",
        "        x = self.pool(F.relu(self.conv1(x)))\n",
        "        x = self.pool(F.relu(self.conv2(x)))\n",
        "        x = x.view(-1, self.num_flat_features(x))\n",
        "        x = F.relu(self.fc1(x))\n",
        "        x = F.relu(self.fc2(x))\n",
        "        x = self.fc3(x)\n",
        "        return x\n",
        "      \n",
        "    def num_flat_features(self, x):\n",
        "        size = x.size()[1:]  # all dimensions except the batch dimension\n",
        "        num_features = 1\n",
        "        for s in size:\n",
        "            num_features *= s\n",
        "        return num_features\n",
        "      \n",
        "    def calculate_fc1_input_size(self, kernel_size, num_conv_layers):\n",
        "        image_single_dim = 32\n",
        "        val = image_single_dim\n",
        "        kernel_sub = (kernel_size - 1)\n",
        "        for i in range(num_conv_layers):\n",
        "          val = int((val - kernel_sub) / 2)\n",
        "        return val"
      ],
      "execution_count": 0,
      "outputs": []
    },
    {
      "metadata": {
        "id": "axDkhI29-NH8",
        "colab_type": "text"
      },
      "cell_type": "markdown",
      "source": [
        "##Training Function"
      ]
    },
    {
      "metadata": {
        "id": "HUsuRPMDu4bv",
        "colab_type": "text"
      },
      "cell_type": "markdown",
      "source": [
        "In the neural network terminology:\n",
        "* **one epoch** = *one forward pass and one backward pass* of all the training examples\n",
        "\n",
        "* **batch size** = the number of training examples in one forward/backward pass. The higher the batch size, the more memory space you'll need.\n",
        "\n",
        "* **number of iterations** = number of passes, each pass using number of examples. To be clear, one pass = one forward pass + one backward pass (we do not count the forward pass and backward pass as two different passes).\n",
        "\n",
        "Example: if you have 1000 training examples, and your batch size is 500, then it will take 2 iterations to complete 1 epoch.\n",
        "\n",
        "[Quora Link](https://www.quora.com/What-is-the-difference-between-iterations-and-epochs-in-Convolution-neural-networks)\n"
      ]
    },
    {
      "metadata": {
        "id": "rhgse2yuPpNd",
        "colab_type": "code",
        "colab": {}
      },
      "cell_type": "code",
      "source": [
        "def train(epochs):\n",
        "  for epoch in range(epochs):  # loop over the dataset multiple times\n",
        "\n",
        "    running_loss = 0.0\n",
        "    for i, data in enumerate(trainloader, 0):\n",
        "        # get the inputs\n",
        "        inputs, labels = data\n",
        "\n",
        "        # zero the parameter gradients\n",
        "        optimizer.zero_grad()\n",
        "\n",
        "        # forward + backward + optimize\n",
        "        outputs = net(inputs)\n",
        "        loss = criterion(outputs, labels)\n",
        "        loss.backward()\n",
        "        optimizer.step()\n",
        "\n",
        "        # print statistics\n",
        "        running_loss += loss.item()\n",
        "        if i % 2000 == 1999:\n",
        "            running_loss = 0.0"
      ],
      "execution_count": 0,
      "outputs": []
    },
    {
      "metadata": {
        "id": "eYk7zeAzkwHF",
        "colab_type": "text"
      },
      "cell_type": "markdown",
      "source": [
        "##Testing Function"
      ]
    },
    {
      "metadata": {
        "id": "O1ec38xARDwM",
        "colab_type": "code",
        "colab": {}
      },
      "cell_type": "code",
      "source": [
        "def test():\n",
        "  correct = 0\n",
        "  total = 0\n",
        "  with torch.no_grad():\n",
        "    for data in testloader:\n",
        "        images, labels = data\n",
        "        outputs = net(images)\n",
        "        _, predicted = torch.max(outputs.data, 1)\n",
        "        total += labels.size(0)\n",
        "        correct += (predicted == labels).sum().item()\n",
        "\n",
        "    return int(((100 * correct) / total))"
      ],
      "execution_count": 0,
      "outputs": []
    },
    {
      "metadata": {
        "id": "TbwoIMZS-X1e",
        "colab_type": "text"
      },
      "cell_type": "markdown",
      "source": [
        "##Run CNN"
      ]
    },
    {
      "metadata": {
        "id": "F-DUpzTo7Ufz",
        "colab_type": "code",
        "colab": {}
      },
      "cell_type": "code",
      "source": [
        "results = list()\n",
        "kernels = [3, 5, 7]\n",
        "epochs_values = [3]\n",
        "for epochs in epochs_values:\n",
        "  accuracies = list()\n",
        "  for kernel_size in kernels:\n",
        "    net = Net(kernel_size)\n",
        "    criterion = nn.CrossEntropyLoss()\n",
        "    optimizer = optim.SGD(net.parameters(), lr=0.001, momentum=0.9)\n",
        "    train(epochs)\n",
        "    accuracy = test()\n",
        "    accuracies.append(accuracy)\n",
        "  results.append([epochs, kernels, accuracies])"
      ],
      "execution_count": 0,
      "outputs": []
    },
    {
      "metadata": {
        "id": "Qva8EkKyi1Dm",
        "colab_type": "text"
      },
      "cell_type": "markdown",
      "source": [
        "##Print Results"
      ]
    },
    {
      "metadata": {
        "id": "zIUN3nI7iZ-f",
        "colab_type": "code",
        "outputId": "8a35d735-f525-4333-99fe-a6d1ca207b69",
        "colab": {
          "base_uri": "https://localhost:8080/",
          "height": 459
        }
      },
      "cell_type": "code",
      "source": [
        "for tuple in results:\n",
        "  print_accuracies(tuple[0], tuple[1], tuple[2])"
      ],
      "execution_count": 0,
      "outputs": [
        {
          "output_type": "stream",
          "text": [
            "#epochs =  3\n",
            "{\n",
            "\tkernel size =  3\n",
            "\tAccuracy of the network on the 10000 test images = 59%\n",
            "\n",
            "\tkernel size =  5\n",
            "\tAccuracy of the network on the 10000 test images = 56%\n",
            "\n",
            "\tkernel size =  7\n",
            "\tAccuracy of the network on the 10000 test images = 52%\n",
            "\n",
            "}\n",
            "==================\n",
            "#epochs =  6\n",
            "{\n",
            "\tkernel size =  3\n",
            "\tAccuracy of the network on the 10000 test images = 63%\n",
            "\n",
            "\tkernel size =  5\n",
            "\tAccuracy of the network on the 10000 test images = 62%\n",
            "\n",
            "\tkernel size =  7\n",
            "\tAccuracy of the network on the 10000 test images = 55%\n",
            "\n",
            "}\n",
            "==================\n"
          ],
          "name": "stdout"
        }
      ]
    },
    {
      "metadata": {
        "id": "0Rph-Ffzi6hr",
        "colab_type": "text"
      },
      "cell_type": "markdown",
      "source": [
        "## Plot Results"
      ]
    },
    {
      "metadata": {
        "id": "WJvMraKJivxS",
        "colab_type": "code",
        "outputId": "604cef58-9948-4577-95e7-32172df57c76",
        "colab": {
          "base_uri": "https://localhost:8080/",
          "height": 927
        }
      },
      "cell_type": "code",
      "source": [
        "for tuple in results:\n",
        "  plot_data(tuple[0], tuple[1], tuple[2])"
      ],
      "execution_count": 0,
      "outputs": [
        {
          "output_type": "display_data",
          "data": {
            "image/png": "[encoded data removed]",
            "text/plain": [
              "<Figure size 640x480 with 1 Axes>"
            ]
          },
          "metadata": {
            "tags": []
          }
        },
        {
          "output_type": "display_data",
          "data": {
            "image/png": "[encoded data removed]",
            "text/plain": [
              "<Figure size 640x480 with 1 Axes>"
            ]
          },
          "metadata": {
            "tags": []
          }
        }
      ]
    },
    {
      "metadata": {
        "id": "BnBnyVJmpd_7",
        "colab_type": "code",
        "outputId": "1ba5a867-3531-4a87-d542-a4e0a7aba7e2",
        "colab": {
          "base_uri": "https://localhost:8080/",
          "height": 227
        }
      },
      "cell_type": "code",
      "source": [
        "S"
      ],
      "execution_count": 0,
      "outputs": [
        {
          "output_type": "display_data",
          "data": {
            "image/png": "[encoded data removed]",
            "text/plain": [
              "<Figure size 640x480 with 1 Axes>"
            ]
          },
          "metadata": {
            "tags": []
          }
        },
        {
          "output_type": "stream",
          "text": [
            "GroundTruth:    cat  ship  ship plane\n",
            "Predicted:   frog plane  ship plane\n"
          ],
          "name": "stdout"
        }
      ]
    },
    {
      "metadata": {
        "colab_type": "text",
        "id": "5GANenFznAHu"
      },
      "cell_type": "markdown",
      "source": [
        "#Part2"
      ]
    },
    {
      "metadata": {
        "id": "GkvbBFKlRz91",
        "colab_type": "code",
        "colab": {}
      },
      "cell_type": "code",
      "source": [
        "import torch\n",
        "import torch.nn as nn\n",
        "import torch.nn.functional as F\n",
        "from torch.utils import model_zoo"
      ],
      "execution_count": 0,
      "outputs": []
    },
    {
      "metadata": {
        "id": "ygze9buvR0_s",
        "colab_type": "code",
        "colab": {}
      },
      "cell_type": "code",
      "source": [
        "__all__ = ['GoogLeNet', 'googlenet']\n",
        "\n",
        "model_urls = {\n",
        "    # GoogLeNet ported from TensorFlow\n",
        "    'googlenet': 'https://download.pytorch.org/models/googlenet-1378be20.pth',\n",
        "}"
      ],
      "execution_count": 0,
      "outputs": []
    },
    {
      "metadata": {
        "id": "MGyw6NJGSOAR",
        "colab_type": "code",
        "colab": {}
      },
      "cell_type": "code",
      "source": [
        "def googlenet(pretrained=False, **kwargs):\n",
        "    r\"\"\"GoogLeNet (Inception v1) model architecture from\n",
        "    `\"Going Deeper with Convolutions\" <http://arxiv.org/abs/1409.4842>`_.\n",
        "    Args:\n",
        "        pretrained (bool): If True, returns a model pre-trained on ImageNet\n",
        "        transform_input (bool): If True, preprocesses the input according to the method with which it\n",
        "            was trained on ImageNet. Default: *False*\n",
        "    \"\"\"\n",
        "    if pretrained:\n",
        "        if 'transform_input' not in kwargs:\n",
        "            kwargs['transform_input'] = True\n",
        "        kwargs['init_weights'] = False\n",
        "        model = GoogLeNet(**kwargs)\n",
        "        model.load_state_dict(model_zoo.load_url(model_urls['googlenet']))\n",
        "        return model\n",
        "\n",
        "    return GoogLeNet(**kwargs)"
      ],
      "execution_count": 0,
      "outputs": []
    },
    {
      "metadata": {
        "id": "YUJgFmZqSSqk",
        "colab_type": "code",
        "colab": {}
      },
      "cell_type": "code",
      "source": [
        "class GoogLeNet(nn.Module):\n",
        "\n",
        "    def __init__(self, num_classes=1000, aux_logits=True, transform_input=False, init_weights=True):\n",
        "        super(GoogLeNet, self).__init__()\n",
        "        self.aux_logits = aux_logits\n",
        "        self.transform_input = transform_input\n",
        "\n",
        "        self.conv1 = BasicConv2d(3, 64, kernel_size=7, stride=2, padding=3)\n",
        "        self.maxpool1 = nn.MaxPool2d(3, stride=2, ceil_mode=True)\n",
        "        self.conv2 = BasicConv2d(64, 64, kernel_size=1)\n",
        "        self.conv3 = BasicConv2d(64, 192, kernel_size=3, padding=1)\n",
        "        self.maxpool2 = nn.MaxPool2d(3, stride=2, ceil_mode=True)\n",
        "\n",
        "        self.inception3a = Inception(192, 64, 96, 128, 16, 32, 32)\n",
        "        self.inception3b = Inception(256, 128, 128, 192, 32, 96, 64)\n",
        "        self.maxpool3 = nn.MaxPool2d(3, stride=2, ceil_mode=True)\n",
        "\n",
        "        self.inception4a = Inception(480, 192, 96, 208, 16, 48, 64)\n",
        "        self.inception4b = Inception(512, 160, 112, 224, 24, 64, 64)\n",
        "        self.inception4c = Inception(512, 128, 128, 256, 24, 64, 64)\n",
        "        self.inception4d = Inception(512, 112, 144, 288, 32, 64, 64)\n",
        "        self.inception4e = Inception(528, 256, 160, 320, 32, 128, 128)\n",
        "        self.maxpool4 = nn.MaxPool2d(2, stride=2, ceil_mode=True)\n",
        "\n",
        "        self.inception5a = Inception(832, 256, 160, 320, 32, 128, 128)\n",
        "        self.inception5b = Inception(832, 384, 192, 384, 48, 128, 128)\n",
        "        if aux_logits:\n",
        "            self.aux1 = InceptionAux(512, num_classes)\n",
        "            self.aux2 = InceptionAux(528, num_classes)\n",
        "        self.avgpool = nn.AdaptiveAvgPool2d((1, 1))\n",
        "        self.dropout = nn.Dropout(0.4)\n",
        "        self.fc = nn.Linear(1024, num_classes)\n",
        "\n",
        "        if init_weights:\n",
        "            self._initialize_weights()\n",
        "            \n",
        "    def _initialize_weights(self):\n",
        "        for m in self.modules():\n",
        "            if isinstance(m, nn.Conv2d):\n",
        "                nn.init.xavier_uniform_(m.weight)\n",
        "                if m.bias is not None:\n",
        "                    nn.init.constant_(m.bias, 0.2)\n",
        "            elif isinstance(m, nn.Linear):\n",
        "                nn.init.xavier_uniform_(m.weight)\n",
        "                nn.init.constant_(m.bias, 0)\n",
        "            elif isinstance(m, nn.BatchNorm2d):\n",
        "                nn.init.constant_(m.weight, 1)\n",
        "                nn.init.constant_(m.bias, 0)\n",
        "\n",
        "    def forward(self, x):\n",
        "        if self.transform_input:\n",
        "            x_ch0 = torch.unsqueeze(x[:, 0], 1) * (0.229 / 0.5) + (0.485 - 0.5) / 0.5\n",
        "            x_ch1 = torch.unsqueeze(x[:, 1], 1) * (0.224 / 0.5) + (0.456 - 0.5) / 0.5\n",
        "            x_ch2 = torch.unsqueeze(x[:, 2], 1) * (0.225 / 0.5) + (0.406 - 0.5) / 0.5\n",
        "            x = torch.cat((x_ch0, x_ch1, x_ch2), 1)\n",
        "\n",
        "        # N x 3 x 224 x 224\n",
        "        x = self.conv1(x)\n",
        "        # N x 64 x 112 x 112\n",
        "        x = self.maxpool1(x)\n",
        "        # N x 64 x 56 x 56\n",
        "        x = self.conv2(x)\n",
        "        # N x 64 x 56 x 56\n",
        "        x = self.conv3(x)\n",
        "        # N x 192 x 56 x 56\n",
        "        x = self.maxpool2(x)\n",
        "\n",
        "        # N x 192 x 28 x 28\n",
        "        x = self.inception3a(x)\n",
        "        # N x 256 x 28 x 28\n",
        "        x = self.inception3b(x)\n",
        "        # N x 480 x 28 x 28\n",
        "        x = self.maxpool3(x)\n",
        "        # N x 480 x 14 x 14\n",
        "        x = self.inception4a(x)\n",
        "        # N x 512 x 14 x 14\n",
        "        if self.training and self.aux_logits:\n",
        "            aux1 = self.aux1(x)\n",
        "\n",
        "        x = self.inception4b(x)\n",
        "        # N x 512 x 14 x 14\n",
        "        x = self.inception4c(x)\n",
        "        # N x 512 x 14 x 14\n",
        "        x = self.inception4d(x)\n",
        "        # N x 528 x 14 x 14\n",
        "        if self.training and self.aux_logits:\n",
        "            aux2 = self.aux2(x)\n",
        "\n",
        "        x = self.inception4e(x)\n",
        "        # N x 832 x 14 x 14\n",
        "        x = self.maxpool4(x)\n",
        "        # N x 832 x 7 x 7\n",
        "        x = self.inception5a(x)\n",
        "        # N x 832 x 7 x 7\n",
        "        x = self.inception5b(x)\n",
        "        # N x 1024 x 7 x 7\n",
        "\n",
        "        x = self.avgpool(x)\n",
        "        # N x 1024 x 1 x 1\n",
        "        x = x.view(x.size(0), -1)\n",
        "        # N x 1024\n",
        "        x = self.dropout(x)\n",
        "        x = self.fc(x)\n",
        "        # N x 1000 (num_classes)\n",
        "        if self.training and self.aux_logits:\n",
        "            return aux1, aux2, x\n",
        "        return x"
      ],
      "execution_count": 0,
      "outputs": []
    },
    {
      "metadata": {
        "id": "YxdeBBeySaen",
        "colab_type": "code",
        "colab": {}
      },
      "cell_type": "code",
      "source": [
        "class Inception(nn.Module):\n",
        "\n",
        "    def __init__(self, in_channels, ch1x1, ch3x3red, ch3x3, ch5x5red, ch5x5, pool_proj):\n",
        "        super(Inception, self).__init__()\n",
        "\n",
        "        self.branch1 = BasicConv2d(in_channels, ch1x1, kernel_size=1)\n",
        "\n",
        "        self.branch2 = nn.Sequential(\n",
        "            BasicConv2d(in_channels, ch3x3red, kernel_size=1),\n",
        "            BasicConv2d(ch3x3red, ch3x3, kernel_size=3, padding=1)\n",
        "        )\n",
        "\n",
        "        self.branch3 = nn.Sequential(\n",
        "            BasicConv2d(in_channels, ch5x5red, kernel_size=1),\n",
        "            BasicConv2d(ch5x5red, ch5x5, kernel_size=3, padding=1)\n",
        "        )\n",
        "\n",
        "        self.branch4 = nn.Sequential(\n",
        "            nn.MaxPool2d(kernel_size=3, stride=1, padding=1, ceil_mode=True),\n",
        "            BasicConv2d(in_channels, pool_proj, kernel_size=1)\n",
        "        )\n",
        "\n",
        "    def forward(self, x):\n",
        "        branch1 = self.branch1(x)\n",
        "        branch2 = self.branch2(x)\n",
        "        branch3 = self.branch3(x)\n",
        "        branch4 = self.branch4(x)\n",
        "\n",
        "        outputs = [branch1, branch2, branch3, branch4]\n",
        "        return torch.cat(outputs, 1)"
      ],
      "execution_count": 0,
      "outputs": []
    },
    {
      "metadata": {
        "id": "L_gqBMd1TwQB",
        "colab_type": "code",
        "colab": {}
      },
      "cell_type": "code",
      "source": [
        "class InceptionAux(nn.Module):\n",
        "\n",
        "    def __init__(self, in_channels, num_classes):\n",
        "        super(InceptionAux, self).__init__()\n",
        "        self.conv = BasicConv2d(in_channels, 128, kernel_size=1)\n",
        "\n",
        "        self.fc1 = nn.Linear(2048, 1024)\n",
        "        self.fc2 = nn.Linear(1024, num_classes)\n",
        "\n",
        "    def forward(self, x):\n",
        "        # aux1: N x 512 x 14 x 14, aux2: N x 528 x 14 x 14\n",
        "        x = F.adaptive_avg_pool2d(x, (4, 4))\n",
        "        # aux1: N x 512 x 4 x 4, aux2: N x 528 x 4 x 4\n",
        "        x = self.conv(x)\n",
        "        # N x 128 x 4 x 4\n",
        "        x = x.view(x.size(0), -1)\n",
        "        # N x 2048\n",
        "        x = F.relu(self.fc1(x), inplace=True)\n",
        "        # N x 2048\n",
        "        x = F.dropout(x, 0.7, training=self.training)\n",
        "        # N x 2048\n",
        "        x = self.fc2(x)\n",
        "        # N x 1024\n",
        "\n",
        "        return x"
      ],
      "execution_count": 0,
      "outputs": []
    },
    {
      "metadata": {
        "id": "v1rFelzbSxvn",
        "colab_type": "code",
        "colab": {}
      },
      "cell_type": "code",
      "source": [
        "class BasicConv2d(nn.Module):\n",
        "\n",
        "    def __init__(self, in_channels, out_channels, **kwargs):\n",
        "        super(BasicConv2d, self).__init__()\n",
        "        self.conv = nn.Conv2d(in_channels, out_channels, bias=False, **kwargs)\n",
        "        self.bn = nn.BatchNorm2d(out_channels, eps=0.001)\n",
        "\n",
        "    def forward(self, x):\n",
        "        x = self.conv(x)\n",
        "        x = self.bn(x)\n",
        "        return F.relu(x, inplace=True)"
      ],
      "execution_count": 0,
      "outputs": []
    },
    {
      "metadata": {
        "id": "WlVLyxHWy4PZ",
        "colab_type": "code",
        "outputId": "34627b27-c228-4287-aeb1-34cec10040c0",
        "colab": {
          "base_uri": "https://localhost:8080/",
          "height": 124
        }
      },
      "cell_type": "code",
      "source": [
        "from google.colab import drive\n",
        "drive.mount('/content/gdrive')\n",
        "model_save_name = 'inceptionV2.pt'\n",
        "path = F\"/content/gdrive/My Drive/{model_save_name}\""
      ],
      "execution_count": 0,
      "outputs": [
        {
          "output_type": "stream",
          "text": [
            "Go to this URL in a browser: https://accounts.google.com/o/oauth2/auth?client_id=947318989803-6bn6qk8qdgf4n4g3pfee6491hc0brc4i.apps.googleusercontent.com&redirect_uri=urn%3Aietf%3Awg%3Aoauth%3A2.0%3Aoob&scope=email%20https%3A%2F%2Fwww.googleapis.com%2Fauth%2Fdocs.test%20https%3A%2F%2Fwww.googleapis.com%2Fauth%2Fdrive%20https%3A%2F%2Fwww.googleapis.com%2Fauth%2Fdrive.photos.readonly%20https%3A%2F%2Fwww.googleapis.com%2Fauth%2Fpeopleapi.readonly&response_type=code\n",
            "\n",
            "Enter your authorization code:\n",
            "··········\n",
            "Mounted at /content/gdrive\n"
          ],
          "name": "stdout"
        }
      ]
    },
    {
      "metadata": {
        "id": "bkKTFut5S1dH",
        "colab_type": "code",
        "colab": {}
      },
      "cell_type": "code",
      "source": [
        "net = GoogLeNet(num_classes=10)\n",
        "#net.load_state_dict(torch.load(path))\n",
        "net.eval()\n",
        "net.training = True\n",
        "device = torch.device(\"cuda:0\" if torch.cuda.is_available() else \"cpu\")\n",
        "net.to(device)\n",
        "\n",
        "criterion = nn.CrossEntropyLoss()\n",
        "optimizer = optim.SGD(net.parameters(), lr=0.001, momentum=0.9)"
      ],
      "execution_count": 0,
      "outputs": []
    },
    {
      "metadata": {
        "id": "9-SakIsc5Icu",
        "colab_type": "code",
        "colab": {}
      },
      "cell_type": "code",
      "source": [
        "def train_network(net,optimizer,criterion,nums):\n",
        "  for epoch in range(nums):  # loop over the dataset multiple times\n",
        "\n",
        "      running_loss = 0.0\n",
        "      for i, data in enumerate(trainloader, 0):\n",
        "          # get the inputs\n",
        "          inputs, labels = data\n",
        "          inputs, labels = inputs.to(device), labels.to(device)\n",
        "\n",
        "          # zero the parameter gradients\n",
        "          optimizer.zero_grad()\n",
        "\n",
        "          # forward + backward + optimize\n",
        "          outputs = net(inputs)\n",
        "          loss = criterion(outputs[2], labels) + .3 * criterion(outputs[0], labels) + .3 * criterion(outputs[1], labels)\n",
        "          loss.backward()\n",
        "          optimizer.step()\n",
        "\n",
        "          # print statistics\n",
        "          running_loss += loss.item()\n",
        "          if i % 2000 == 1999:    # print every 2000 mini-batches\n",
        "              print('[%d, %5d] loss: %.3f' %\n",
        "                    (epoch + 1, i + 1, running_loss / 2000))\n",
        "              running_loss = 0.0\n",
        "              torch.save(net.state_dict(), path)\n",
        "\n",
        "  print('Finished Training')"
      ],
      "execution_count": 0,
      "outputs": []
    },
    {
      "metadata": {
        "id": "SXmRsJ4k5UgR",
        "colab_type": "code",
        "outputId": "5dddfa40-370d-4936-bf39-e0006c86ffb2",
        "colab": {
          "base_uri": "https://localhost:8080/",
          "height": 347
        }
      },
      "cell_type": "code",
      "source": [
        "train_network(net,optimizer,criterion,3)"
      ],
      "execution_count": 0,
      "outputs": [
        {
          "output_type": "stream",
          "text": [
            "[1,  2000] loss: 3.525\n",
            "[1,  4000] loss: 3.048\n",
            "[1,  6000] loss: 2.772\n",
            "[1,  8000] loss: 2.636\n",
            "[1, 10000] loss: 2.483\n",
            "[1, 12000] loss: 2.379\n",
            "[2,  2000] loss: 2.275\n",
            "[2,  4000] loss: 2.164\n",
            "[2,  6000] loss: 2.112\n",
            "[2,  8000] loss: 2.012\n",
            "[2, 10000] loss: 1.980\n",
            "[2, 12000] loss: 1.912\n",
            "[3,  2000] loss: 1.770\n",
            "[3,  4000] loss: 1.771\n",
            "[3,  6000] loss: 1.712\n",
            "[3,  8000] loss: 1.685\n",
            "[3, 10000] loss: 1.649\n",
            "[3, 12000] loss: 1.616\n",
            "Finished Training\n"
          ],
          "name": "stdout"
        }
      ]
    },
    {
      "metadata": {
        "id": "Ar36I-nU50M0",
        "colab_type": "code",
        "colab": {}
      },
      "cell_type": "code",
      "source": [
        "torch.save(net.state_dict(), path)\n",
        "net.training = False"
      ],
      "execution_count": 0,
      "outputs": []
    },
    {
      "metadata": {
        "id": "QIQ1wCIO5_pB",
        "colab_type": "code",
        "colab": {}
      },
      "cell_type": "code",
      "source": [
        "def compute_accurcay(net):\n",
        "  correct = 0\n",
        "  total = 0\n",
        "  net.to('cpu')\n",
        "  #net.to(device)\n",
        "  with torch.no_grad():\n",
        "      for data in testloader:\n",
        "          images, labels = data\n",
        "          outputs = net(images)\n",
        "          _, predicted = torch.max(outputs, 1)\n",
        "          total += labels.size(0)\n",
        "          correct += (predicted == labels).sum().item()\n",
        "          #print('Accuracy of the network on the 10000 test images: %d %%' % (\n",
        "          #    100 * correct / total))\n",
        "  print('Accuracy of the network on the 10000 test images: %d %%' % (\n",
        "      100 * correct / total))"
      ],
      "execution_count": 0,
      "outputs": []
    },
    {
      "metadata": {
        "id": "d2P_swDj6CqN",
        "colab_type": "code",
        "outputId": "b2affad3-4f56-4f15-90e8-d9d0c89f8859",
        "colab": {
          "base_uri": "https://localhost:8080/",
          "height": 35
        }
      },
      "cell_type": "code",
      "source": [
        "compute_accurcay(net)"
      ],
      "execution_count": 0,
      "outputs": [
        {
          "output_type": "stream",
          "text": [
            "Accuracy of the network on the 10000 test images: 65 %\n"
          ],
          "name": "stdout"
        }
      ]
    },
    {
      "metadata": {
        "id": "LXaqLlJeESl_",
        "colab_type": "text"
      },
      "cell_type": "markdown",
      "source": [
        "#inception v2"
      ]
    },
    {
      "metadata": {
        "colab_type": "code",
        "id": "vdYBMGFDE7EH",
        "colab": {}
      },
      "cell_type": "code",
      "source": [
        "import torch\n",
        "import torch.nn as nn\n",
        "import torch.nn.functional as F\n",
        "from torch.utils import model_zoo"
      ],
      "execution_count": 0,
      "outputs": []
    },
    {
      "metadata": {
        "colab_type": "code",
        "id": "t-FtZd-WE7EK",
        "colab": {}
      },
      "cell_type": "code",
      "source": [
        "__all__ = ['GoogLeNet', 'googlenet']\n",
        "\n",
        "model_urls = {\n",
        "    # GoogLeNet ported from TensorFlow\n",
        "    'googlenet': 'https://download.pytorch.org/models/googlenet-1378be20.pth',\n",
        "}"
      ],
      "execution_count": 0,
      "outputs": []
    },
    {
      "metadata": {
        "colab_type": "code",
        "id": "W0E6MnNsE7EM",
        "colab": {}
      },
      "cell_type": "code",
      "source": [
        "def googlenet(pretrained=False, **kwargs):\n",
        "    r\"\"\"GoogLeNet (Inception v1) model architecture from\n",
        "    `\"Going Deeper with Convolutions\" <http://arxiv.org/abs/1409.4842>`_.\n",
        "    Args:\n",
        "        pretrained (bool): If True, returns a model pre-trained on ImageNet\n",
        "        transform_input (bool): If True, preprocesses the input according to the method with which it\n",
        "            was trained on ImageNet. Default: *False*\n",
        "    \"\"\"\n",
        "    if pretrained:\n",
        "        if 'transform_input' not in kwargs:\n",
        "            kwargs['transform_input'] = True\n",
        "        kwargs['init_weights'] = False\n",
        "        model = GoogLeNet(**kwargs)\n",
        "        model.load_state_dict(model_zoo.load_url(model_urls['googlenet']))\n",
        "        return model\n",
        "\n",
        "    return GoogLeNet(**kwargs)"
      ],
      "execution_count": 0,
      "outputs": []
    },
    {
      "metadata": {
        "colab_type": "code",
        "id": "YkGr4cCTE7EQ",
        "colab": {}
      },
      "cell_type": "code",
      "source": [
        "class GoogLeNet(nn.Module):\n",
        "\n",
        "    def __init__(self, num_classes=1000, aux_logits=True, transform_input=False, init_weights=True):\n",
        "        super(GoogLeNet, self).__init__()\n",
        "        self.aux_logits = aux_logits\n",
        "        self.transform_input = transform_input\n",
        "\n",
        "        self.conv1 = BasicConv2d(3, 64, kernel_size=7, stride=2, padding=3)\n",
        "        self.maxpool1 = nn.MaxPool2d(3, stride=2, ceil_mode=True)\n",
        "        self.conv2 = BasicConv2d(64, 64, kernel_size=1)\n",
        "        self.conv3 = BasicConv2d(64, 192, kernel_size=3, padding=1)\n",
        "        self.maxpool2 = nn.MaxPool2d(3, stride=2, ceil_mode=True)\n",
        "\n",
        "        self.inception3a = Inception(192, 64, 96, 128, 16, 32, 32)\n",
        "        self.inception3b = Inception(256, 128, 128, 192, 32, 96, 64)\n",
        "        self.maxpool3 = nn.MaxPool2d(3, stride=2, ceil_mode=True)\n",
        "\n",
        "        self.inception4a = Inception(480, 192, 96, 208, 16, 48, 64)\n",
        "        self.inception4b = Inception(512, 160, 112, 224, 24, 64, 64)\n",
        "        self.inception4c = Inception(512, 128, 128, 256, 24, 64, 64)\n",
        "        self.inception4d = Inception(512, 112, 144, 288, 32, 64, 64)\n",
        "        self.inception4e = Inception(528, 256, 160, 320, 32, 128, 128)\n",
        "        self.maxpool4 = nn.MaxPool2d(2, stride=2, ceil_mode=True)\n",
        "\n",
        "        self.inception5a = Inception(832, 256, 160, 320, 32, 128, 128)\n",
        "        self.inception5b = Inception(832, 384, 192, 384, 48, 128, 128)\n",
        "        if aux_logits:\n",
        "            self.aux1 = InceptionAux(512, num_classes)\n",
        "            self.aux2 = InceptionAux(528, num_classes)\n",
        "        self.avgpool = nn.AdaptiveAvgPool2d((1, 1))\n",
        "        self.dropout = nn.Dropout(0.4)\n",
        "        self.fc = nn.Linear(1024, num_classes)\n",
        "\n",
        "        if init_weights:\n",
        "            self._initialize_weights()\n",
        "            \n",
        "    def _initialize_weights(self):\n",
        "        for m in self.modules():\n",
        "            if isinstance(m, nn.Conv2d):\n",
        "                nn.init.xavier_uniform_(m.weight)\n",
        "                if m.bias is not None:\n",
        "                    nn.init.constant_(m.bias, 0.2)\n",
        "            elif isinstance(m, nn.Linear):\n",
        "                nn.init.xavier_uniform_(m.weight)\n",
        "                nn.init.constant_(m.bias, 0)\n",
        "            elif isinstance(m, nn.BatchNorm2d):\n",
        "                nn.init.constant_(m.weight, 1)\n",
        "                nn.init.constant_(m.bias, 0)\n",
        "\n",
        "    def forward(self, x):\n",
        "        if self.transform_input:\n",
        "            x_ch0 = torch.unsqueeze(x[:, 0], 1) * (0.229 / 0.5) + (0.485 - 0.5) / 0.5\n",
        "            x_ch1 = torch.unsqueeze(x[:, 1], 1) * (0.224 / 0.5) + (0.456 - 0.5) / 0.5\n",
        "            x_ch2 = torch.unsqueeze(x[:, 2], 1) * (0.225 / 0.5) + (0.406 - 0.5) / 0.5\n",
        "            x = torch.cat((x_ch0, x_ch1, x_ch2), 1)\n",
        "\n",
        "        # N x 3 x 224 x 224\n",
        "        x = self.conv1(x)\n",
        "        # N x 64 x 112 x 112\n",
        "        x = self.maxpool1(x)\n",
        "        # N x 64 x 56 x 56\n",
        "        x = self.conv2(x)\n",
        "        # N x 64 x 56 x 56\n",
        "        x = self.conv3(x)\n",
        "        # N x 192 x 56 x 56\n",
        "        x = self.maxpool2(x)\n",
        "\n",
        "        # N x 192 x 28 x 28\n",
        "        x = self.inception3a(x)\n",
        "        # N x 256 x 28 x 28\n",
        "        x = self.inception3b(x)\n",
        "        # N x 480 x 28 x 28\n",
        "        x = self.maxpool3(x)\n",
        "        # N x 480 x 14 x 14\n",
        "        x = self.inception4a(x)\n",
        "        # N x 512 x 14 x 14\n",
        "        if self.training and self.aux_logits:\n",
        "            aux1 = self.aux1(x)\n",
        "\n",
        "        x = self.inception4b(x)\n",
        "        # N x 512 x 14 x 14\n",
        "        x = self.inception4c(x)\n",
        "        # N x 512 x 14 x 14\n",
        "        x = self.inception4d(x)\n",
        "        # N x 528 x 14 x 14\n",
        "        if self.training and self.aux_logits:\n",
        "            aux2 = self.aux2(x)\n",
        "\n",
        "        x = self.inception4e(x)\n",
        "        # N x 832 x 14 x 14\n",
        "        x = self.maxpool4(x)\n",
        "        # N x 832 x 7 x 7\n",
        "        x = self.inception5a(x)\n",
        "        # N x 832 x 7 x 7\n",
        "        x = self.inception5b(x)\n",
        "        # N x 1024 x 7 x 7\n",
        "\n",
        "        x = self.avgpool(x)\n",
        "        # N x 1024 x 1 x 1\n",
        "        x = x.view(x.size(0), -1)\n",
        "        # N x 1024\n",
        "        x = self.dropout(x)\n",
        "        x = self.fc(x)\n",
        "        # N x 1000 (num_classes)\n",
        "        if self.training and self.aux_logits:\n",
        "            return aux1, aux2, x\n",
        "        return x"
      ],
      "execution_count": 0,
      "outputs": []
    },
    {
      "metadata": {
        "colab_type": "code",
        "id": "s3pQR04PE7EU",
        "colab": {}
      },
      "cell_type": "code",
      "source": [
        "class Inception(nn.Module):\n",
        "\n",
        "    def __init__(self, in_channels, ch1x1, ch3x3red, ch3x3, ch5x5red, ch5x5, pool_proj):\n",
        "        super(Inception, self).__init__()\n",
        "\n",
        "        self.branch1 = BasicConv2d(in_channels, ch1x1, kernel_size=1)\n",
        "\n",
        "        self.branch2 = nn.Sequential(\n",
        "            BasicConv2d(in_channels, ch3x3red, kernel_size=1),\n",
        "            BasicConv2d(ch3x3red, ch3x3, kernel_size=3, padding=1)\n",
        "        )\n",
        "\n",
        "        self.branch3 = nn.Sequential(\n",
        "            BasicConv2d(in_channels, ch5x5red, kernel_size=1),\n",
        "            BasicConv2d(ch5x5red, ch5x5, kernel_size=3, padding=1),\n",
        "            BasicConv2d(ch5x5, ch5x5, kernel_size=3, padding=1),\n",
        "        )\n",
        "\n",
        "        self.branch4 = nn.Sequential(\n",
        "            nn.MaxPool2d(kernel_size=3, stride=1, padding=1, ceil_mode=True),\n",
        "            BasicConv2d(in_channels, pool_proj, kernel_size=1)\n",
        "        )\n",
        "\n",
        "    def forward(self, x):\n",
        "        branch1 = self.branch1(x)\n",
        "        branch2 = self.branch2(x)\n",
        "        branch3 = self.branch3(x)\n",
        "        branch4 = self.branch4(x)\n",
        "\n",
        "        outputs = [branch1, branch2, branch3, branch4]\n",
        "        return torch.cat(outputs, 1)"
      ],
      "execution_count": 0,
      "outputs": []
    },
    {
      "metadata": {
        "colab_type": "code",
        "id": "_j5H90KLE7EY",
        "colab": {}
      },
      "cell_type": "code",
      "source": [
        "class InceptionAux(nn.Module):\n",
        "\n",
        "    def __init__(self, in_channels, num_classes):\n",
        "        super(InceptionAux, self).__init__()\n",
        "        self.conv = BasicConv2d(in_channels, 128, kernel_size=1)\n",
        "\n",
        "        self.fc1 = nn.Linear(2048, 1024)\n",
        "        self.fc2 = nn.Linear(1024, num_classes)\n",
        "\n",
        "    def forward(self, x):\n",
        "        # aux1: N x 512 x 14 x 14, aux2: N x 528 x 14 x 14\n",
        "        x = F.adaptive_avg_pool2d(x, (4, 4))\n",
        "        # aux1: N x 512 x 4 x 4, aux2: N x 528 x 4 x 4\n",
        "        x = self.conv(x)\n",
        "        # N x 128 x 4 x 4\n",
        "        x = x.view(x.size(0), -1)\n",
        "        # N x 2048\n",
        "        x = F.relu(self.fc1(x), inplace=True)\n",
        "        # N x 2048\n",
        "        x = F.dropout(x, 0.7, training=self.training)\n",
        "        # N x 2048\n",
        "        x = self.fc2(x)\n",
        "        # N x 1024\n",
        "\n",
        "        return x"
      ],
      "execution_count": 0,
      "outputs": []
    },
    {
      "metadata": {
        "colab_type": "code",
        "id": "0ZRMhzThE7Ec",
        "colab": {}
      },
      "cell_type": "code",
      "source": [
        "class BasicConv2d(nn.Module):\n",
        "\n",
        "    def __init__(self, in_channels, out_channels, **kwargs):\n",
        "        super(BasicConv2d, self).__init__()\n",
        "        self.conv = nn.Conv2d(in_channels, out_channels, bias=False, **kwargs)\n",
        "        self.bn = nn.BatchNorm2d(out_channels, eps=0.001)\n",
        "\n",
        "    def forward(self, x):\n",
        "        x = self.conv(x)\n",
        "        x = self.bn(x)\n",
        "        return F.relu(x, inplace=True)"
      ],
      "execution_count": 0,
      "outputs": []
    },
    {
      "metadata": {
        "colab_type": "code",
        "outputId": "0fa38e08-90f8-4df8-a292-8d5a4f7ac957",
        "id": "RFMUzeGJE7Ef",
        "colab": {
          "base_uri": "https://localhost:8080/",
          "height": 34
        }
      },
      "cell_type": "code",
      "source": [
        "from google.colab import drive\n",
        "drive.mount('/content/gdrive')\n",
        "model_save_name = 'inceptionV2.pt'\n",
        "path = F\"/content/gdrive/My Drive/{model_save_name}\""
      ],
      "execution_count": 0,
      "outputs": [
        {
          "output_type": "stream",
          "text": [
            "Drive already mounted at /content/gdrive; to attempt to forcibly remount, call drive.mount(\"/content/gdrive\", force_remount=True).\n"
          ],
          "name": "stdout"
        }
      ]
    },
    {
      "metadata": {
        "colab_type": "code",
        "id": "9G1QQnURE7Ej",
        "colab": {}
      },
      "cell_type": "code",
      "source": [
        "net = GoogLeNet(num_classes=10)\n",
        "#net.load_state_dict(torch.load(path))\n",
        "net.eval()\n",
        "net.training = True\n",
        "device = torch.device(\"cuda:0\" if torch.cuda.is_available() else \"cpu\")\n",
        "net.to(device)\n",
        "\n",
        "criterion = nn.CrossEntropyLoss()\n",
        "optimizer = optim.SGD(net.parameters(), lr=0.001, momentum=0.9)"
      ],
      "execution_count": 0,
      "outputs": []
    },
    {
      "metadata": {
        "colab_type": "code",
        "id": "9EVIWPp5E7El",
        "colab": {}
      },
      "cell_type": "code",
      "source": [
        "def train_network(net,optimizer,criterion,nums):\n",
        "  for epoch in range(nums):  # loop over the dataset multiple times\n",
        "\n",
        "      running_loss = 0.0\n",
        "      for i, data in enumerate(trainloader, 0):\n",
        "          # get the inputs\n",
        "          inputs, labels = data\n",
        "          inputs, labels = inputs.to(device), labels.to(device)\n",
        "\n",
        "          # zero the parameter gradients\n",
        "          optimizer.zero_grad()\n",
        "\n",
        "          # forward + backward + optimize\n",
        "          outputs = net(inputs)\n",
        "          loss = criterion(outputs[2], labels) + .3 * criterion(outputs[0], labels) + .3 * criterion(outputs[1], labels)\n",
        "          loss.backward()\n",
        "          optimizer.step()\n",
        "\n",
        "          # print statistics\n",
        "          running_loss += loss.item()\n",
        "          if i % 2000 == 1999:    # print every 2000 mini-batches\n",
        "              print('[%d, %5d] loss: %.3f' %\n",
        "                    (epoch + 1, i + 1, running_loss / 2000))\n",
        "              running_loss = 0.0\n",
        "              torch.save(net.state_dict(), path)\n",
        "\n",
        "  print('Finished Training')"
      ],
      "execution_count": 0,
      "outputs": []
    },
    {
      "metadata": {
        "colab_type": "code",
        "outputId": "1ca971d9-9080-4b15-ebab-19ef32d94440",
        "id": "I7i4uX3AE7En",
        "colab": {
          "base_uri": "https://localhost:8080/",
          "height": 354
        }
      },
      "cell_type": "code",
      "source": [
        "train_network(net,optimizer,criterion,3)"
      ],
      "execution_count": 0,
      "outputs": [
        {
          "output_type": "stream",
          "text": [
            "[1,  2000] loss: 3.518\n",
            "[1,  4000] loss: 3.063\n",
            "[1,  6000] loss: 2.812\n",
            "[1,  8000] loss: 2.631\n",
            "[1, 10000] loss: 2.490\n",
            "[1, 12000] loss: 2.389\n",
            "[2,  2000] loss: 2.219\n",
            "[2,  4000] loss: 2.159\n",
            "[2,  6000] loss: 2.049\n",
            "[2,  8000] loss: 1.995\n",
            "[2, 10000] loss: 1.939\n",
            "[2, 12000] loss: 1.894\n",
            "[3,  2000] loss: 1.761\n",
            "[3,  4000] loss: 1.715\n",
            "[3,  6000] loss: 1.709\n",
            "[3,  8000] loss: 1.667\n",
            "[3, 10000] loss: 1.642\n",
            "[3, 12000] loss: 1.570\n",
            "Finished Training\n"
          ],
          "name": "stdout"
        }
      ]
    },
    {
      "metadata": {
        "colab_type": "code",
        "id": "4vSLfgHjE7Er",
        "colab": {}
      },
      "cell_type": "code",
      "source": [
        "torch.save(net.state_dict(), path)\n",
        "net.training = False"
      ],
      "execution_count": 0,
      "outputs": []
    },
    {
      "metadata": {
        "colab_type": "code",
        "id": "y0W4gV6CE7Eu",
        "colab": {}
      },
      "cell_type": "code",
      "source": [
        "def compute_accurcay(net):\n",
        "  correct = 0\n",
        "  total = 0\n",
        "  net.to('cpu')\n",
        "  #net.to(device)\n",
        "  with torch.no_grad():\n",
        "      for data in testloader:\n",
        "          images, labels = data\n",
        "          outputs = net(images)\n",
        "          _, predicted = torch.max(outputs, 1)\n",
        "          total += labels.size(0)\n",
        "          correct += (predicted == labels).sum().item()\n",
        "          #print('Accuracy of the network on the 10000 test images: %d %%' % (\n",
        "          #    100 * correct / total))\n",
        "  print('Accuracy of the network on the 10000 test images: %d %%' % (\n",
        "      100 * correct / total))"
      ],
      "execution_count": 0,
      "outputs": []
    },
    {
      "metadata": {
        "colab_type": "code",
        "outputId": "6240f2bc-ebce-4390-d0e3-2828b90cef85",
        "id": "qF8BndLfE7Ex",
        "colab": {
          "base_uri": "https://localhost:8080/",
          "height": 34
        }
      },
      "cell_type": "code",
      "source": [
        "compute_accurcay(net)"
      ],
      "execution_count": 0,
      "outputs": [
        {
          "output_type": "stream",
          "text": [
            "Accuracy of the network on the 10000 test images: 65 %\n"
          ],
          "name": "stdout"
        }
      ]
    }
  ]
}