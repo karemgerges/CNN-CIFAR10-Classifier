{
  "nbformat": 4,
  "nbformat_minor": 0,
  "metadata": {
    "colab": {
      "name": "CV_Lab2.ipynb",
      "version": "0.3.2",
      "provenance": [],
      "collapsed_sections": [
        "xrwJTyqUkMa2"
      ],
      "include_colab_link": true
    },
    "kernelspec": {
      "name": "python3",
      "display_name": "Python 3"
    },
    "accelerator": "GPU"
  },
  "cells": [
    {
      "cell_type": "markdown",
      "metadata": {
        "id": "view-in-github",
        "colab_type": "text"
      },
      "source": [
        "<a href=\"https://colab.research.google.com/github/karemgerges/CNN-CIFAR10-Classifier/blob/master/CV_Lab2.ipynb\" target=\"_parent\"><img src=\"https://colab.research.google.com/assets/colab-badge.svg\" alt=\"Open In Colab\"/></a>"
      ]
    },
    {
      "metadata": {
        "id": "ez7JwSZCqboK",
        "colab_type": "text"
      },
      "cell_type": "markdown",
      "source": [
        "#Imports"
      ]
    },
    {
      "metadata": {
        "id": "Va6YdisFMrtN",
        "colab_type": "code",
        "colab": {}
      },
      "cell_type": "code",
      "source": [
        "import torch\n",
        "import torchvision\n",
        "import torchvision.transforms as transforms\n",
        "import torch.nn as nn\n",
        "import torch.nn.functional as F\n",
        "import matplotlib.pyplot as plt\n",
        "import numpy as np\n",
        "import torch.optim as optim"
      ],
      "execution_count": 0,
      "outputs": []
    },
    {
      "metadata": {
        "id": "xrwJTyqUkMa2",
        "colab_type": "text"
      },
      "cell_type": "markdown",
      "source": [
        "#Loading CIFAR10"
      ]
    },
    {
      "metadata": {
        "id": "YrFfltM1MsjJ",
        "colab_type": "code",
        "outputId": "ec7ad457-9bb5-4252-ee19-00e545e0fc4e",
        "colab": {
          "base_uri": "https://localhost:8080/",
          "height": 52
        }
      },
      "cell_type": "code",
      "source": [
        "transform = transforms.Compose(\n",
        "    [transforms.ToTensor(),\n",
        "     transforms.Normalize((0.5, 0.5, 0.5), (0.5, 0.5, 0.5))])\n",
        "\n",
        "trainset = torchvision.datasets.CIFAR10(root='./data', train=True,\n",
        "                                        download=True, transform=transform)\n",
        "trainloader = torch.utils.data.DataLoader(trainset, batch_size=4,\n",
        "                                          shuffle=True, num_workers=2)\n",
        "\n",
        "testset = torchvision.datasets.CIFAR10(root='./data', train=False,\n",
        "                                       download=True, transform=transform)\n",
        "testloader = torch.utils.data.DataLoader(testset, batch_size=4,\n",
        "                                         shuffle=False, num_workers=2)\n",
        "\n",
        "classes = ('plane', 'car', 'bird', 'cat',\n",
        "           'deer', 'dog', 'frog', 'horse', 'ship', 'truck')"
      ],
      "execution_count": 3,
      "outputs": [
        {
          "output_type": "stream",
          "text": [
            "\r0it [00:00, ?it/s]"
          ],
          "name": "stderr"
        },
        {
          "output_type": "stream",
          "text": [
            "Downloading https://www.cs.toronto.edu/~kriz/cifar-10-python.tar.gz to ./data/cifar-10-python.tar.gz\n"
          ],
          "name": "stdout"
        },
        {
          "output_type": "stream",
          "text": [
            "100%|█████████▉| 170123264/170498071 [00:28<00:00, 7809713.75it/s]"
          ],
          "name": "stderr"
        },
        {
          "output_type": "stream",
          "text": [
            "Files already downloaded and verified\n"
          ],
          "name": "stdout"
        }
      ]
    },
    {
      "metadata": {
        "id": "v4IsS78tkZrV",
        "colab_type": "text"
      },
      "cell_type": "markdown",
      "source": [
        "#Define a Convolutional Neural Network"
      ]
    },
    {
      "metadata": {
        "id": "FWRqim4DPhj8",
        "colab_type": "code",
        "colab": {}
      },
      "cell_type": "code",
      "source": [
        "class Net(nn.Module):\n",
        "    def __init__(self,kernel_size1,kernel_size2):\n",
        "        # 3 input image channel, 6 output channels, 5x5 square convolution kernel\n",
        "        super(Net, self).__init__()\n",
        "        self.conv1 = nn.Conv2d(3, 6, kernel_size1)\n",
        "        # Max pooling over a (2, 2) window\n",
        "        self.pool = nn.MaxPool2d(2, 2)\n",
        "        self.conv2 = nn.Conv2d(6, 16, kernel_size2)\n",
        "        # fully connected takes nn.Linear(size of input, size to output)\n",
        "        self.fc1 = nn.Linear(16 * kernel_size2 * kernel_size2, 120)\n",
        "        self.fc2 = nn.Linear(120, 84)\n",
        "        # 10 = number of classes we are classifing to\n",
        "        self.fc3 = nn.Linear(84, 10)\n",
        "\n",
        "    def forward(self, x):\n",
        "        x = self.pool(F.relu(self.conv1(x)))\n",
        "        x = self.pool(F.relu(self.conv2(x)))\n",
        "        x = x.view(-1, 16 * 5 * 5)\n",
        "        x = F.relu(self.fc1(x))\n",
        "        x = F.relu(self.fc2(x))\n",
        "        x = self.fc3(x)\n",
        "        return x\n"
      ],
      "execution_count": 0,
      "outputs": []
    },
    {
      "metadata": {
        "id": "axDkhI29-NH8",
        "colab_type": "text"
      },
      "cell_type": "markdown",
      "source": [
        "#Training Function"
      ]
    },
    {
      "metadata": {
        "id": "HUsuRPMDu4bv",
        "colab_type": "text"
      },
      "cell_type": "markdown",
      "source": [
        "In the neural network terminology:\n",
        "* **one epoch** = *one forward pass and one backward pass* of all the training examples\n",
        "\n",
        "* **batch size** = the number of training examples in one forward/backward pass. The higher the batch size, the more memory space you'll need.\n",
        "\n",
        "* **number of iterations** = number of passes, each pass using number of examples. To be clear, one pass = one forward pass + one backward pass (we do not count the forward pass and backward pass as two different passes).\n",
        "\n",
        "Example: if you have 1000 training examples, and your batch size is 500, then it will take 2 iterations to complete 1 epoch.\n",
        "\n",
        "[Quora Link](https://www.quora.com/What-is-the-difference-between-iterations-and-epochs-in-Convolution-neural-networks)\n"
      ]
    },
    {
      "metadata": {
        "id": "rhgse2yuPpNd",
        "colab_type": "code",
        "colab": {}
      },
      "cell_type": "code",
      "source": [
        "def train():\n",
        "  for epoch in range(2):  # loop over the dataset multiple times\n",
        "\n",
        "    running_loss = 0.0\n",
        "    for i, data in enumerate(trainloader, 0):\n",
        "        # get the inputs\n",
        "        inputs, labels = data\n",
        "\n",
        "        # zero the parameter gradients\n",
        "        optimizer.zero_grad()\n",
        "\n",
        "        # forward + backward + optimize\n",
        "        outputs = net(inputs)\n",
        "        loss = criterion(outputs, labels)\n",
        "        loss.backward()\n",
        "        optimizer.step()\n",
        "\n",
        "        # print statistics\n",
        "        running_loss += loss.item()\n",
        "        if i % 2000 == 1999:    # print every 2000 mini-batches\n",
        "            print('[epoch number = %d, number of mini-batches = %5d] loss: %.3f' %\n",
        "                  (epoch + 1, i + 1, running_loss / 2000))\n",
        "            running_loss = 0.0\n",
        "\n",
        "  print('Finished Training')"
      ],
      "execution_count": 0,
      "outputs": []
    },
    {
      "metadata": {
        "id": "eYk7zeAzkwHF",
        "colab_type": "text"
      },
      "cell_type": "markdown",
      "source": [
        "#Testing Function"
      ]
    },
    {
      "metadata": {
        "id": "O1ec38xARDwM",
        "colab_type": "code",
        "colab": {}
      },
      "cell_type": "code",
      "source": [
        "def test():\n",
        "  correct = 0\n",
        "  total = 0\n",
        "  with torch.no_grad():\n",
        "    for data in testloader:\n",
        "        images, labels = data\n",
        "        outputs = net(images)\n",
        "        _, predicted = torch.max(outputs.data, 1)\n",
        "        total += labels.size(0)\n",
        "        correct += (predicted == labels).sum().item()\n",
        "\n",
        "  print('Accuracy of the network on the 10000 test images: %d %%' % (\n",
        "    100 * correct / total))"
      ],
      "execution_count": 0,
      "outputs": []
    },
    {
      "metadata": {
        "id": "TbwoIMZS-X1e",
        "colab_type": "text"
      },
      "cell_type": "markdown",
      "source": [
        "#test CNN"
      ]
    },
    {
      "metadata": {
        "id": "F-DUpzTo7Ufz",
        "colab_type": "code",
        "colab": {
          "base_uri": "https://localhost:8080/",
          "height": 260
        },
        "outputId": "9810aba4-a37b-4995-eb23-6251f794627e"
      },
      "cell_type": "code",
      "source": [
        "net = Net(5,5)\n",
        "criterion = nn.CrossEntropyLoss()\n",
        "optimizer = optim.SGD(net.parameters(), lr=0.001, momentum=0.9)\n",
        "train()\n",
        "test()"
      ],
      "execution_count": 56,
      "outputs": [
        {
          "output_type": "stream",
          "text": [
            "[epoch number = 1, number of mini-batches =  2000] loss: 2.175\n",
            "[epoch number = 1, number of mini-batches =  4000] loss: 1.838\n",
            "[epoch number = 1, number of mini-batches =  6000] loss: 1.664\n",
            "[epoch number = 1, number of mini-batches =  8000] loss: 1.571\n",
            "[epoch number = 1, number of mini-batches = 10000] loss: 1.531\n",
            "[epoch number = 1, number of mini-batches = 12000] loss: 1.468\n",
            "[epoch number = 2, number of mini-batches =  2000] loss: 1.413\n",
            "[epoch number = 2, number of mini-batches =  4000] loss: 1.378\n",
            "[epoch number = 2, number of mini-batches =  6000] loss: 1.360\n",
            "[epoch number = 2, number of mini-batches =  8000] loss: 1.321\n",
            "[epoch number = 2, number of mini-batches = 10000] loss: 1.301\n",
            "[epoch number = 2, number of mini-batches = 12000] loss: 1.262\n",
            "Finished Training\n",
            "Accuracy of the network on the 10000 test images: 53 %\n"
          ],
          "name": "stdout"
        }
      ]
    }
  ]
}